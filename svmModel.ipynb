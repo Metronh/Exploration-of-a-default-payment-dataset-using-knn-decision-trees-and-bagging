{
 "cells": [
  {
   "cell_type": "code",
   "execution_count": 1,
   "metadata": {},
   "outputs": [],
   "source": [
    "import matplotlib.pyplot as plt\n",
    "import pandas as pd\n",
    "import numpy as np\n",
    "\n",
    "from sklearn.model_selection import StratifiedKFold #Something to split and randomise the data \n",
    "\n",
    "from sklearn import linear_model\n",
    "from sklearn.svm import SVC\n",
    "\n",
    "from sklearn.metrics import precision_score\n",
    "from sklearn.metrics import accuracy_score\n",
    "from sklearn.metrics import f1_score"
   ]
  },
  {
   "cell_type": "code",
   "execution_count": 2,
   "metadata": {},
   "outputs": [],
   "source": [
    "data = pd.read_csv('Credit/creditdefault_train.csv') #Putting the test data and the train data in data frames \n",
    "test = pd.read_csv('Credit/creditdefault_test.csv')\n",
    "\n",
    "#Seperating the train data labels from the inputs:\n",
    "y_train = data['Y']\n",
    "x_train = data.drop(['Y'],axis=1)\n",
    "\n",
    "#Seperating the test data labels from the inputs:\n",
    "y_test = test['Y']\n",
    "x_test = test.drop(['Y'],axis=1)\n",
    "\n",
    "kf = StratifiedKFold(n_splits=3)\n",
    "#kf = KFold(15000, n_folds=3)\n",
    "\n"
   ]
  },
  {
   "cell_type": "code",
   "execution_count": 3,
   "metadata": {},
   "outputs": [],
   "source": [
    "def graphingMetrics(test,train,x_axis):\n",
    "    figure,axis = plt.subplot(311)\n",
    "    \n",
    "    axis[0].plot(x_axis,train[0],'ro-',x_axis,test[0],'bv--')\n",
    "    axis[0].set_title('Accuracy')\n",
    "    \n",
    "    axis[0].plot(x_axis,train[1],'ro-',x_axis,test[1],'bv--')\n",
    "    axis[0].set_title('Default precision')\n",
    "    \n",
    "    axis[0].plot(x_axis,train[2],'ro-',x_axis,test[2],'bv--')\n",
    "    axis[0].set_title('payment Precision')"
   ]
  },
  {
   "cell_type": "code",
   "execution_count": 4,
   "metadata": {},
   "outputs": [],
   "source": [
    "    \n",
    "def svm(reg):   \n",
    "    train_metrics_mean = np.zeros(3) #Place to store the mean of accuracy, defualt and payment precision \n",
    "    \n",
    "\n",
    "    train_metrics = np.zeros((3,3)) #3x3 matrix to store current train accuracy \n",
    "    \n",
    "    test_metrics = np.zeros(3)  #Place to store test accuracy of that model\n",
    "\n",
    "    counter = 0\n",
    "    for train_index, test_index in kf.split(x_train,y_train):# Splitting into three folds \n",
    "\n",
    "        #Taking the elements and putting them into array:\n",
    "        temp_train_x = np.take(x_train,train_index,0)\n",
    "        temp_train_y = np.take(y_train,train_index,0)\n",
    "\n",
    "        temp_test_x = np.take(x_train,test_index,0)\n",
    "        temp_test_y = np.take(y_train,test_index,0)\n",
    "\n",
    "        #Building model\n",
    "        model = SVC(C=reg,kernel='linear')\n",
    "        \n",
    "        #Fitting model\n",
    "        model.fit(temp_train_x,temp_train_y)\n",
    "        #Creating predictions\n",
    "        pred = model.predict(temp_train_x)\n",
    "        \n",
    "        #Storing the metrics of current fold\n",
    "        train_metrics[counter][0] = accuracy_score(pred,temp_train_y)\n",
    "        train_metrics[counter][1] = precision_score(pred,temp_train_y)\n",
    "        train_metrics[counter][2] = precision_score(pred,temp_train_y,pos_label=0)\n",
    "        \n",
    "        counter+=1\n",
    "    \n",
    "    #Working out the mean of the outputs\n",
    "    train_metrics_mean = np.mean(train_metrics,axis=0)  ## Working out the mean\n",
    "    \n",
    "    #Tesing on the full data set and test set\n",
    "    main_svm = model.fit(temp_train_x,temp_train_y)\n",
    "    \n",
    "    main_svm.fit(x_train,y_train)\n",
    "    \n",
    "    prediction = main_svm.predict(x_test)\n",
    "    #Storing the metrics on test set\n",
    "    test_metrics[0] = accuracy_score(prediction,y_test)\n",
    "    test_metrics[1] = precision_score(prediction,y_test)\n",
    "    test_metrics[2] = precision_score(prediction,y_test,pos_label=0)\n",
    "    \n",
    "    return (train_metrics_mean,test_metrics)\n",
    "    \n",
    "    "
   ]
  },
  {
   "cell_type": "markdown",
   "metadata": {},
   "source": [
    "Whats consuming the most time is the fitting of the data."
   ]
  },
  {
   "cell_type": "code",
   "execution_count": 5,
   "metadata": {},
   "outputs": [],
   "source": []
  },
  {
   "cell_type": "code",
   "execution_count": null,
   "metadata": {},
   "outputs": [],
   "source": [
    "train_svm = np.array((30,3))\n",
    "test_svm = np.array((30,3))\n",
    "train_svm,test_svm = svm(1)"
   ]
  },
  {
   "cell_type": "code",
   "execution_count": null,
   "metadata": {},
   "outputs": [],
   "source": [
    "print(train_svm,test_svm)"
   ]
  }
 ],
 "metadata": {
  "kernelspec": {
   "display_name": "Python 3",
   "language": "python",
   "name": "python3"
  },
  "language_info": {
   "codemirror_mode": {
    "name": "ipython",
    "version": 3
   },
   "file_extension": ".py",
   "mimetype": "text/x-python",
   "name": "python",
   "nbconvert_exporter": "python",
   "pygments_lexer": "ipython3",
   "version": "3.7.9"
  }
 },
 "nbformat": 4,
 "nbformat_minor": 4
}
