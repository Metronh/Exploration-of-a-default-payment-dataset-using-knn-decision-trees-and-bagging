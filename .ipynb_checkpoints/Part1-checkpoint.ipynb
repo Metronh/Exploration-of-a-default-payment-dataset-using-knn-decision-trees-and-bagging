{
 "cells": [
  {
   "cell_type": "markdown",
   "metadata": {},
   "source": [
    "## This is where I import the libaries I am going to use:"
   ]
  },
  {
   "cell_type": "code",
   "execution_count": 1,
   "metadata": {},
   "outputs": [],
   "source": [
    "import pandas as pd\n",
    "import numpy as np\n",
    "import math"
   ]
  },
  {
   "cell_type": "markdown",
   "metadata": {},
   "source": [
    "## Importing data:"
   ]
  },
  {
   "cell_type": "code",
   "execution_count": 6,
   "metadata": {},
   "outputs": [
    {
     "name": "stdout",
     "output_type": "stream",
     "text": [
      "R\n"
     ]
    }
   ],
   "source": [
    "##Reading both CSV files\n",
    "data = pd.read_csv('Sonar/sonar_train.csv')\n",
    "test = pd.read_csv('Sonar/sonar_test.csv')\n",
    "\n",
    "##Seperating the labels and datapoints from files\n",
    "x_train = data.drop(['Class'],axis=1)\n",
    "y_train = data['Class']\n",
    "\n",
    "\n",
    "x_test = test.drop(['Class'],axis=1)\n",
    "y_test = test['Class']\n",
    "\n",
    "\n"
   ]
  },
  {
   "cell_type": "markdown",
   "metadata": {},
   "source": [
    "## Euclidean distance algorithm"
   ]
  },
  {
   "cell_type": "code",
   "execution_count": 3,
   "metadata": {},
   "outputs": [],
   "source": [
    "def euclidean(point_one,point_two):\n",
    "    x = 0\n",
    "    for i in range(len(point_one)):\n",
    "        x += math.pow(abs(point_one[i] - point_two[i]),2)\n",
    "    return math.sqrt(x)\n"
   ]
  },
  {
   "cell_type": "markdown",
   "metadata": {},
   "source": [
    "## Manhatten Distance "
   ]
  },
  {
   "cell_type": "code",
   "execution_count": 2,
   "metadata": {},
   "outputs": [],
   "source": [
    "def manhattan(point_one,point_two):\n",
    "    x = 0\n",
    "    for i in range(len(point_one)):\n",
    "        x += abs(point_one[i] - point_two[i])\n",
    "    return x"
   ]
  },
  {
   "cell_type": "markdown",
   "metadata": {},
   "source": [
    "## Minkowski"
   ]
  },
  {
   "cell_type": "code",
   "execution_count": 1,
   "metadata": {},
   "outputs": [],
   "source": [
    "def minkowski(point_one, point_two, q=3):\n",
    "    x = 0\n",
    "    for i in range(len(point_one)):\n",
    "        x += math.pow(abs(point_one[i] - point_two[i]),q)\n",
    "    return math.pow(x,1/q)\n"
   ]
  },
  {
   "cell_type": "code",
   "execution_count": 6,
   "metadata": {},
   "outputs": [],
   "source": [
    "def finder(arr):\n",
    "    smallest = np.zeros(2)\n",
    "    smallest[0] = arr[0][0]\n",
    "    smallest[1] = arr[0][1]\n",
    "    \n",
    "    for i in range(1,arr.shape[0]):\n",
    "        if(arr[i][1] < smallest[1]):\n",
    "            smallest[0] = arr[i][0]\n",
    "            smallest[1] = arr[i][1]\n",
    "    return smallest\n",
    "            \n",
    "    "
   ]
  },
  {
   "cell_type": "code",
   "execution_count": 7,
   "metadata": {},
   "outputs": [],
   "source": [
    "def nearestpoint(test_point,train_x,train_y,algo):\n",
    "    distances = np.zeros((len(train_x),2))#The place that the nearest neaigbour is and the index\n",
    "    for i in range(len(distances)):\n",
    "        distances[i][0] = i\n",
    "    \n",
    "    \n",
    "    for i in range(len(train_x)): #Going though all the elements in train and using the the chosen equation\n",
    "        if(algo[0] == \"Manhattan\"):#and finding the distances from every point\n",
    "            distances[i][1] = manhattan(test_point,train_x.iloc[i]) \n",
    "        elif(algo[0] == \"Minkowski\"):#Doing this to prevent errors\n",
    "            try:\n",
    "                distances[i][1] = minkowski(test_point,train_x.iloc[i],algo[1])\n",
    "            except:\n",
    "                distances[i][1] = minkowski(test_point,train_x.iloc[i])\n",
    "        elif(algo[0] == \"Euclidean\"):\n",
    "            distances[i][1] = euclidean(test_point,train.iloc[i])\n",
    "            \n",
    "    \n",
    "    closest = finder(distances)\n",
    "    return train.iloc[int(closest[0])]['Class']\n",
    "    \n",
    "            ##Finish nearest point and finder"
   ]
  },
  {
   "cell_type": "markdown",
   "metadata": {},
   "source": [
    "## Nearest Neigbour"
   ]
  },
  {
   "cell_type": "code",
   "execution_count": 9,
   "metadata": {},
   "outputs": [],
   "source": [
    "def nn(train_x,train_y,test_x,algo):\n",
    "    \n",
    "    output = np.empty(len(test_x),dtype='str') #Place to store output predictions of the algorithm on the test data\n",
    "    \n",
    "    if(algo[0] == 'Minkowski' and len(algo) != 2): #Something for if user inputs minkoski and there is no order                                                     \n",
    "        print(\"No q was specified therefore default of 3 is applied\") #stated\n",
    "    \n",
    "    for i in range(len(test_x)):  #Going through each record in the test data and finding the nearest neigbour\n",
    "        output[i] = nearestpoint(test_x.iloc[i],train_x,train_y,algo)#Storing it in output\n",
    "    \n",
    "    return output\n",
    "    "
   ]
  },
  {
   "cell_type": "code",
   "execution_count": 9,
   "metadata": {},
   "outputs": [],
   "source": [
    "def accuracy(actual,pred):\n",
    "    correct = 0\n",
    "    for i in range(len(pred)):\n",
    "        if(actual.iloc[i]['Class'] == pred[i]):\n",
    "            correct += 1\n",
    "    return correct/len(pred)\n",
    "\n",
    "\n"
   ]
  },
  {
   "cell_type": "code",
   "execution_count": 10,
   "metadata": {},
   "outputs": [
    {
     "name": "stdout",
     "output_type": "stream",
     "text": [
      "0.8985507246376812\n",
      "Working?\n"
     ]
    }
   ],
   "source": [
    "x = nn(test,data,[\"Euclidean\"])\n",
    "print(accuracy(test,x))\n",
    "print(\"Working?\")"
   ]
  },
  {
   "cell_type": "code",
   "execution_count": 11,
   "metadata": {},
   "outputs": [
    {
     "name": "stdout",
     "output_type": "stream",
     "text": [
      "0.8985507246376812\n"
     ]
    }
   ],
   "source": [
    "#import k-nn classifier\n",
    "from sklearn.model_selection import train_test_split\n",
    "from sklearn.neighbors import KNeighborsClassifier\n",
    "\n",
    "from sklearn.metrics import confusion_matrix\n",
    "from sklearn.metrics import classification_report\n",
    "from sklearn.metrics import accuracy_score\n",
    "import operator\n",
    "\n",
    "\n",
    "knn=KNeighborsClassifier(n_neighbors=1, metric='euclidean')\n",
    "\n",
    "knn.fit(data.loc[:,data.columns != 'Class'],data.loc[:,'Class'])\n",
    "\n",
    "prediction = knn.predict(test.loc[:,test.columns  != 'Class'])\n",
    "\n",
    "print(accuracy_score(prediction,test.loc[:,'Class']))\n",
    "\n"
   ]
  },
  {
   "cell_type": "markdown",
   "metadata": {},
   "source": [
    "This task is based on the Sonar real data seen previously in class. Several objects which can be rock or metal cylinders are scanned on different angles and under different conditions, with sonar signals. 60 measurements are recorded per columns for each object (one record per object) and these are the predictors called A1, A2, …, A60. The label associated with each record contains the letter \"R\" if the object is a rock and \"M\" if it is metal cylinder, and this is the outcome variable called Class.\n",
    "\n",
    "Two datasets are provided to you: a training dataset in the sonar_train.csv file, and a test dataset in the sonar_test.csv file.\n",
    "\n",
    "a) You are required to write a Python code implementing the Nearest Neighbour algorithm (not kNN), with the Minkowski distance encountered in lecture of week 1. Your code will read the power q appearing in the Mionkowski distance, and will classify each record from the test dataset based on the training dataset, and then will calculate and display the accuracy, and sensitivity, specificity and precision with respect to the class \"M\", of the predictions on the test dataset. Run your code to produce results first for Manhattan distance and then for Euclidian distance, which are particular cases of Minkowski distance (q=1, and q=2, see lecture week 1).\n",
    "\n",
    "\n",
    "The code, comments, explanations and results will be provided in a Jupyter notebook called Part1.\n",
    "\n",
    "Note that in this task you are not to apply a library for the nearest neighbour algorithm but you are to code yourself this simple algorithm. \n",
    "\n",
    "\n"
   ]
  }
 ],
 "metadata": {
  "kernelspec": {
   "display_name": "Python 3",
   "language": "python",
   "name": "python3"
  },
  "language_info": {
   "codemirror_mode": {
    "name": "ipython",
    "version": 3
   },
   "file_extension": ".py",
   "mimetype": "text/x-python",
   "name": "python",
   "nbconvert_exporter": "python",
   "pygments_lexer": "ipython3",
   "version": "3.8.3"
  }
 },
 "nbformat": 4,
 "nbformat_minor": 4
}
