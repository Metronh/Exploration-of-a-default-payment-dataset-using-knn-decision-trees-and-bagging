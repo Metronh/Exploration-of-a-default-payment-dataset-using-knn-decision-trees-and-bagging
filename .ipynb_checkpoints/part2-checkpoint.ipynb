{
 "cells": [
  {
   "cell_type": "markdown",
   "metadata": {},
   "source": [
    "# Part 2\n",
    "## Contents\n",
    "\n",
    "1. [libraries and files](#libraries)\n",
    "2. [Importing data](#import)\n",
    "3. [Viewing the class in balance](#inbalance)"
   ]
  },
  {
   "cell_type": "markdown",
   "metadata": {},
   "source": [
    "## Libraries\n",
    "<a id='libraries'></a>"
   ]
  },
  {
   "cell_type": "code",
   "execution_count": 1,
   "metadata": {},
   "outputs": [],
   "source": [
    "import matplotlib.pyplot as plt\n",
    "import pandas as pd\n",
    "import numpy as np"
   ]
  },
  {
   "cell_type": "markdown",
   "metadata": {},
   "source": [
    "## Importing data and sorting them\n",
    "<a id='import'></a>"
   ]
  },
  {
   "cell_type": "code",
   "execution_count": 2,
   "metadata": {},
   "outputs": [],
   "source": [
    "data = pd.read_csv('Credit/creditdefault_train.csv') #Putting the test data and the train data in data frames \n",
    "test = pd.read_csv('Credit/creditdefault_test.csv')\n",
    "\n",
    "#Seperating the train data labels from the inputs:\n",
    "y_train = data['Y']\n",
    "x_train = data.drop(['Y'],axis=1)\n",
    "\n",
    "#Seperating the test data labels from the inputs:\n",
    "y_test = test['Y']\n",
    "x_test = test.drop(['Y'],axis=1)\n"
   ]
  },
  {
   "cell_type": "markdown",
   "metadata": {},
   "source": [
    "## Viewing the class in balance\n",
    "<a id='libraries'></a>"
   ]
  },
  {
   "cell_type": "code",
   "execution_count": null,
   "metadata": {},
   "outputs": [],
   "source": []
  }
 ],
 "metadata": {
  "kernelspec": {
   "display_name": "Python 3",
   "language": "python",
   "name": "python3"
  },
  "language_info": {
   "codemirror_mode": {
    "name": "ipython",
    "version": 3
   },
   "file_extension": ".py",
   "mimetype": "text/x-python",
   "name": "python",
   "nbconvert_exporter": "python",
   "pygments_lexer": "ipython3",
   "version": "3.7.9"
  }
 },
 "nbformat": 4,
 "nbformat_minor": 4
}
