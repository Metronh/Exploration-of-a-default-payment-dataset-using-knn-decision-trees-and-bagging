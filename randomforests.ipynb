{
 "cells": [
  {
   "cell_type": "code",
   "execution_count": 1,
   "metadata": {},
   "outputs": [],
   "source": [
    "import matplotlib.pyplot as plt\n",
    "import pandas as pd\n",
    "import numpy as np\n",
    "\n",
    "from sklearn.model_selection import StratifiedKFold #Something to split and randomise the data \n",
    "\n",
    "from sklearn import ensemble\n",
    "from sklearn.tree import DecisionTreeClassifier\n",
    "\n",
    "from sklearn.metrics import precision_score\n",
    "from sklearn.metrics import accuracy_score\n",
    "from sklearn.metrics import f1_score"
   ]
  },
  {
   "cell_type": "code",
   "execution_count": 2,
   "metadata": {},
   "outputs": [],
   "source": [
    "data = pd.read_csv('Credit/creditdefault_train.csv') #Putting the test data and the train data in data frames \n",
    "test = pd.read_csv('Credit/creditdefault_test.csv')\n",
    "\n",
    "#Seperating the train data labels from the inputs:\n",
    "y_train = data['Y']\n",
    "x_train = data.drop(['Y'],axis=1)\n",
    "\n",
    "#Seperating the test data labels from the inputs:\n",
    "y_test = test['Y']\n",
    "x_test = test.drop(['Y'],axis=1)\n",
    "\n",
    "kf = StratifiedKFold(n_splits=3)\n",
    "#kf = KFold(15000, n_folds=3)\n",
    "\n"
   ]
  },
  {
   "cell_type": "code",
   "execution_count": 41,
   "metadata": {},
   "outputs": [],
   "source": [
    "def graphingMetrics(test,train,x_axis):\n",
    "    figure,axis = plt.subplot(311)\n",
    "    \n",
    "    axis[0].plot(x_axis,train[0],'ro-',x_axis,test[0],'bv--')\n",
    "    axis[0].set_title('Accuracy')\n",
    "    \n",
    "    axis[0].plot(x_axis,train[1],'ro-',x_axis,test[1],'bv--')\n",
    "    axis[0].set_title('Default precision')\n",
    "    \n",
    "    axis[0].plot(x_axis,train[2],'ro-',x_axis,test[2],'bv--')\n",
    "    axis[0].set_title('payment Precision')"
   ]
  },
  {
   "cell_type": "code",
   "execution_count": 18,
   "metadata": {},
   "outputs": [],
   "source": [
    "    \n",
    "def randomForests(est,crit='gini',boot=True,depth=None):   \n",
    "    train_metrics_mean = np.zeros(3) #Place to store the mean of accuracy, defualt and payment precision \n",
    "    \n",
    "\n",
    "    train_metrics = np.zeros((3,3)) #3x3 matrix to store current train accuracy \n",
    "    \n",
    "    test_metrics = np.zeros(3)  #Place to store test accuracy of that model\n",
    "\n",
    "    counter = 0\n",
    "    for train_index, test_index in kf.split(x_train,y_train):# Splitting into three folds \n",
    "\n",
    "        #Taking the elements and putting them into array:\n",
    "        temp_train_x = np.take(x_train,train_index,0)\n",
    "        temp_train_y = np.take(y_train,train_index,0)\n",
    "\n",
    "        temp_test_x = np.take(x_train,test_index,0)\n",
    "        temp_test_y = np.take(y_train,test_index,0)\n",
    "\n",
    "        #Building model\n",
    "        random_forest = ensemble.RandomForestClassifier(n_estimators=est,criterion=crit,bootstrap=boot,\n",
    "                                                        max_depth=depth)\n",
    "        \n",
    "        #Fitting model\n",
    "        random_forest.fit(temp_train_x,temp_train_y)\n",
    "        #Creating predictions\n",
    "        pred = random_forest.predict(temp_test_x)\n",
    "        \n",
    "        #Storing the metrics of current fold\n",
    "        train_metrics[counter][0] = accuracy_score(pred,temp_test_y)\n",
    "        train_metrics[counter][1] = precision_score(pred,temp_test_y)\n",
    "        train_metrics[counter][2] = precision_score(pred,temp_test_y,pos_label=0)\n",
    "        \n",
    "        counter+=1\n",
    "    \n",
    "    #Working out the mean of the outputs\n",
    "    train_metrics_mean = np.mean(train_metrics,axis=0)  ## Working out the mean\n",
    "    \n",
    "    #Tesing on the full data set and test set\n",
    "    main_random = ensemble.RandomForestClassifier(n_estimators=500)\n",
    "    \n",
    "    main_random.fit(x_train,y_train)\n",
    "    \n",
    "    prediction = main_random.predict(x_test)\n",
    "    #Storing the metrics on test set\n",
    "    test_metrics[0] = accuracy_score(prediction,y_test)\n",
    "    test_metrics[1] = precision_score(prediction,y_test)\n",
    "    test_metrics[2] = precision_score(prediction,y_test,pos_label=0)\n",
    "    \n",
    "    return (train_metrics_mean,test_metrics)\n",
    "    \n",
    "    "
   ]
  },
  {
   "cell_type": "markdown",
   "metadata": {},
   "source": [
    "Whats consuming the most time is the fitting of the data."
   ]
  },
  {
   "cell_type": "code",
   "execution_count": 19,
   "metadata": {},
   "outputs": [],
   "source": [
    "train_100 , test_100 = randomForests(100)"
   ]
  },
  {
   "cell_type": "code",
   "execution_count": 43,
   "metadata": {},
   "outputs": [
    {
     "ename": "TypeError",
     "evalue": "cannot unpack non-iterable AxesSubplot object",
     "output_type": "error",
     "traceback": [
      "\u001b[1;31m---------------------------------------------------------------------------\u001b[0m",
      "\u001b[1;31mTypeError\u001b[0m                                 Traceback (most recent call last)",
      "\u001b[1;32m<ipython-input-43-397e7ec30478>\u001b[0m in \u001b[0;36m<module>\u001b[1;34m\u001b[0m\n\u001b[1;32m----> 1\u001b[1;33m \u001b[0mgraphingMetrics\u001b[0m\u001b[1;33m(\u001b[0m\u001b[0mtrain_100\u001b[0m\u001b[1;33m,\u001b[0m\u001b[0mtest_100\u001b[0m\u001b[1;33m,\u001b[0m\u001b[1;33m[\u001b[0m\u001b[1;36m100\u001b[0m\u001b[1;33m]\u001b[0m\u001b[1;33m)\u001b[0m\u001b[1;33m\u001b[0m\u001b[1;33m\u001b[0m\u001b[0m\n\u001b[0m",
      "\u001b[1;32m<ipython-input-41-c4b98cabfbc4>\u001b[0m in \u001b[0;36mgraphingMetrics\u001b[1;34m(test, train, x_axis)\u001b[0m\n\u001b[0;32m      1\u001b[0m \u001b[1;32mdef\u001b[0m \u001b[0mgraphingMetrics\u001b[0m\u001b[1;33m(\u001b[0m\u001b[0mtest\u001b[0m\u001b[1;33m,\u001b[0m\u001b[0mtrain\u001b[0m\u001b[1;33m,\u001b[0m\u001b[0mx_axis\u001b[0m\u001b[1;33m)\u001b[0m\u001b[1;33m:\u001b[0m\u001b[1;33m\u001b[0m\u001b[1;33m\u001b[0m\u001b[0m\n\u001b[1;32m----> 2\u001b[1;33m     \u001b[0mfigure\u001b[0m\u001b[1;33m,\u001b[0m\u001b[0maxis\u001b[0m \u001b[1;33m=\u001b[0m \u001b[0mplt\u001b[0m\u001b[1;33m.\u001b[0m\u001b[0msubplot\u001b[0m\u001b[1;33m(\u001b[0m\u001b[1;36m311\u001b[0m\u001b[1;33m)\u001b[0m\u001b[1;33m\u001b[0m\u001b[1;33m\u001b[0m\u001b[0m\n\u001b[0m\u001b[0;32m      3\u001b[0m \u001b[1;33m\u001b[0m\u001b[0m\n\u001b[0;32m      4\u001b[0m     \u001b[0maxis\u001b[0m\u001b[1;33m[\u001b[0m\u001b[1;36m0\u001b[0m\u001b[1;33m]\u001b[0m\u001b[1;33m.\u001b[0m\u001b[0mplot\u001b[0m\u001b[1;33m(\u001b[0m\u001b[0mx_axis\u001b[0m\u001b[1;33m,\u001b[0m\u001b[0mtrain\u001b[0m\u001b[1;33m[\u001b[0m\u001b[1;36m0\u001b[0m\u001b[1;33m]\u001b[0m\u001b[1;33m,\u001b[0m\u001b[1;34m'ro-'\u001b[0m\u001b[1;33m,\u001b[0m\u001b[0mx_axis\u001b[0m\u001b[1;33m,\u001b[0m\u001b[0mtest\u001b[0m\u001b[1;33m[\u001b[0m\u001b[1;36m0\u001b[0m\u001b[1;33m]\u001b[0m\u001b[1;33m,\u001b[0m\u001b[1;34m'bv--'\u001b[0m\u001b[1;33m)\u001b[0m\u001b[1;33m\u001b[0m\u001b[1;33m\u001b[0m\u001b[0m\n\u001b[0;32m      5\u001b[0m     \u001b[0maxis\u001b[0m\u001b[1;33m[\u001b[0m\u001b[1;36m0\u001b[0m\u001b[1;33m]\u001b[0m\u001b[1;33m.\u001b[0m\u001b[0mset_title\u001b[0m\u001b[1;33m(\u001b[0m\u001b[1;34m'Accuracy'\u001b[0m\u001b[1;33m)\u001b[0m\u001b[1;33m\u001b[0m\u001b[1;33m\u001b[0m\u001b[0m\n",
      "\u001b[1;31mTypeError\u001b[0m: cannot unpack non-iterable AxesSubplot object"
     ]
    },
    {
     "data": {
      "image/png": "[encoded data removed]",
      "text/plain": [
       "<Figure size 432x288 with 1 Axes>"
      ]
     },
     "metadata": {
      "needs_background": "light"
     },
     "output_type": "display_data"
    }
   ],
   "source": [
    "graphingMetrics(train_100,test_100,[100])"
   ]
  }
 ],
 "metadata": {
  "kernelspec": {
   "display_name": "Python 3",
   "language": "python",
   "name": "python3"
  },
  "language_info": {
   "codemirror_mode": {
    "name": "ipython",
    "version": 3
   },
   "file_extension": ".py",
   "mimetype": "text/x-python",
   "name": "python",
   "nbconvert_exporter": "python",
   "pygments_lexer": "ipython3",
   "version": "3.7.9"
  }
 },
 "nbformat": 4,
 "nbformat_minor": 4
}
