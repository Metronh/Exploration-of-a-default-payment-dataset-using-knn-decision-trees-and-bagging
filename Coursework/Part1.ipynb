{
 "cells": [
  {
   "cell_type": "markdown",
   "metadata": {},
   "source": [
    "## This is where I import the libaries I am going to use:"
   ]
  },
  {
   "cell_type": "code",
   "execution_count": 1,
   "metadata": {},
   "outputs": [],
   "source": [
    "import pandas as pd\n",
    "import numpy as np\n",
    "import math"
   ]
  },
  {
   "cell_type": "markdown",
   "metadata": {},
   "source": [
    "## Importing data:"
   ]
  },
  {
   "cell_type": "code",
   "execution_count": 2,
   "metadata": {},
   "outputs": [],
   "source": [
    "##Reading both CSV files\n",
    "data = pd.read_csv('Sonar/sonar_train.csv')\n",
    "test = pd.read_csv('Sonar/sonar_test.csv')\n",
    "\n",
    "##Seperating the labels and datapoints from files\n",
    "x_train = data.drop(['Class'],axis=1)\n",
    "y_train = data['Class']\n",
    "\n",
    "\n",
    "x_test = test.drop(['Class'],axis=1)\n",
    "y_test = test['Class']\n",
    "\n",
    "\n"
   ]
  },
  {
   "cell_type": "markdown",
   "metadata": {},
   "source": [
    "## Euclidean distance algorithm"
   ]
  },
  {
   "cell_type": "code",
   "execution_count": 3,
   "metadata": {},
   "outputs": [],
   "source": [
    "def euclidean(point_one,point_two):\n",
    "    '''Working out the euclidean distance'''\n",
    "    x = 0\n",
    "    for i in range(len(point_one)):\n",
    "        x += math.pow(abs(point_one[i] - point_two[i]),2)\n",
    "    return math.sqrt(x)\n"
   ]
  },
  {
   "cell_type": "markdown",
   "metadata": {},
   "source": [
    "## Manhatten Distance "
   ]
  },
  {
   "cell_type": "code",
   "execution_count": 4,
   "metadata": {},
   "outputs": [],
   "source": [
    "def manhattan(point_one,point_two):\n",
    "    '''Working out manhattan distance'''\n",
    "    x = 0\n",
    "    for i in range(len(point_one)):\n",
    "        x += abs(point_one[i] - point_two[i])\n",
    "    return x"
   ]
  },
  {
   "cell_type": "markdown",
   "metadata": {},
   "source": [
    "## Minkowski"
   ]
  },
  {
   "cell_type": "code",
   "execution_count": 5,
   "metadata": {},
   "outputs": [],
   "source": [
    "def minkowski(point_one, point_two, q=3):\n",
    "    '''Working out minkoski distance'''\n",
    "    x = 0\n",
    "    for i in range(len(point_one)):\n",
    "        x += math.pow(abs(point_one[i] - point_two[i]),q)\n",
    "    return math.pow(x,1/q)\n"
   ]
  },
  {
   "cell_type": "code",
   "execution_count": 6,
   "metadata": {},
   "outputs": [],
   "source": [
    "def finder(arr):\n",
    "    '''Function finding the lowest distance in array of distances'''\n",
    "    smallest = np.zeros(2) #Creating array to store the smallest index and class\n",
    "    smallest[0] = arr[0][0]   #Storing the first class and index within it\n",
    "    smallest[1] = arr[0][1]\n",
    "    \n",
    "    for i in range(1,arr.shape[0]): #Searching to find the smallest distance and storing the index and class\n",
    "        if(arr[i][1] < smallest[1]):\n",
    "            smallest[0] = arr[i][0]\n",
    "            smallest[1] = arr[i][1]\n",
    "    return smallest #Returning the smallest element\n",
    "            \n",
    "    "
   ]
  },
  {
   "cell_type": "code",
   "execution_count": 7,
   "metadata": {},
   "outputs": [],
   "source": [
    "def nearestpoint(test_point,train_x,train_y,algo):\n",
    "    '''Function finding the lowest distance by finding the distance in all points then finding then selecting the\n",
    "    smallest one'''\n",
    "    distances = np.zeros((len(train_x),2))#The place that the nearest neaigbour is and the index\n",
    "    for i in range(len(distances)):\n",
    "        distances[i][0] = i\n",
    "    \n",
    "    \n",
    "    for i in range(len(train_x)): #Going though all the elements in train and using the the chosen equation\n",
    "        if(algo[0] == \"Manhattan\"):#and finding the distances from every point\n",
    "            distances[i][1] = manhattan(test_point,train_x.iloc[i]) \n",
    "          \n",
    "        elif(algo[0] == \"Minkowski\"):#Doing this to prevent errors\n",
    "            try:\n",
    "                distances[i][1] = minkowski(test_point,train_x.iloc[i],algo[1])\n",
    "            except:\n",
    "                distances[i][1] = minkowski(test_point,train_x.iloc[i])\n",
    "        elif(algo[0] == \"Euclidean\"):\n",
    "            distances[i][1] = euclidean(test_point,train_x.iloc[i])\n",
    "            \n",
    "    closest = finder(distances) #finding the smallest distance\n",
    "    \n",
    "    return train_y.iloc[int(closest[0])] #Returning the class \n",
    "    \n",
    "            ##Finish nearest point and finder"
   ]
  },
  {
   "cell_type": "markdown",
   "metadata": {},
   "source": [
    "## Nearest Neigbour"
   ]
  },
  {
   "cell_type": "code",
   "execution_count": 8,
   "metadata": {},
   "outputs": [],
   "source": [
    "def nn(train_x,train_y,test_x,algo):\n",
    "    '''going through all samples in the array and finding the nearest neigbour'''\n",
    "    output = np.empty(len(test_x),dtype='str') #Place to store output predictions of the algorithm on the test data\n",
    "    \n",
    "    if(algo[0] == 'Minkowski' and len(algo) != 2): #Something for if user inputs minkoski and there is no order                                                     \n",
    "        print(\"No q was specified therefore default of 3 is applied\") #stated\n",
    "    \n",
    "    for i in range(len(test_x)):  #Going through each record in the test data and finding the nearest neigbour\n",
    "        output[i] = nearestpoint(test_x.iloc[i],train_x,train_y,algo)#Storing it in output\n",
    "    \n",
    "    return output\n",
    "    "
   ]
  },
  {
   "cell_type": "code",
   "execution_count": 9,
   "metadata": {},
   "outputs": [],
   "source": [
    "def accuracy(actual,pred):\n",
    "    correct = 0\n",
    "    for i in range(len(pred)):\n",
    "        if(actual[i] == pred[i]):\n",
    "            correct += 1\n",
    "    return correct/len(pred)\n",
    "\n",
    "\n"
   ]
  },
  {
   "cell_type": "code",
   "execution_count": 10,
   "metadata": {},
   "outputs": [],
   "source": [
    "def sensitivity(a_class,p_class,Class):\n",
    "    tp = 0 #True pos\n",
    "    tpfn = 0 #true pos + false neg\n",
    "    for i in range(len(p_class)):#Going through all elements in both data sets \n",
    "        if(p_class[i] == a_class[i] == Class):\n",
    "            tp += 1\n",
    "        if(a_class[i] == Class):\n",
    "            tpfn += 1\n",
    "    sens = tp / tpfn\n",
    "    return sens"
   ]
  },
  {
   "cell_type": "code",
   "execution_count": 11,
   "metadata": {},
   "outputs": [],
   "source": [
    "def specifity(a_class,p_class,Class):\n",
    "    tn = 0 #true negative\n",
    "    tnfp = 0 #true negative + false postive\n",
    "    for i in range(len(p_class)):\n",
    "        if(p_class[i] == a_class[i] != Class):\n",
    "            tn += 1\n",
    "        if(a_class[i] != Class):\n",
    "            tnfp += 1\n",
    "    return tn/tnfp"
   ]
  },
  {
   "cell_type": "code",
   "execution_count": 12,
   "metadata": {},
   "outputs": [],
   "source": [
    "def precision(a_class,p_class,Class):\n",
    "    tp = 0 #True postivr\n",
    "    tpfp = 0 #True pos + false pos\n",
    "    for i in range(len(p_class)):\n",
    "        if(p_class[i] == a_class[i] == Class):\n",
    "            tp += 1\n",
    "        if(p_class[i] == Class):\n",
    "            tpfp += 1\n",
    "    return tp/tpfp"
   ]
  },
  {
   "cell_type": "markdown",
   "metadata": {},
   "source": [
    "## Manhatten Distance"
   ]
  },
  {
   "cell_type": "code",
   "execution_count": 13,
   "metadata": {},
   "outputs": [],
   "source": [
    "man = nn(x_train,y_train,x_test,[\"Manhattan\"])"
   ]
  },
  {
   "cell_type": "code",
   "execution_count": 14,
   "metadata": {},
   "outputs": [
    {
     "name": "stdout",
     "output_type": "stream",
     "text": [
      "The accuracy of manhattan distance is 0.8840579710144928.\n",
      "The sensitivity of manhattan distance is 0.9459459459459459.\n",
      "The specificity of manhattan distance is 0.8125.\n",
      "The precision of manhattan distance is 0.8536585365853658.\n"
     ]
    }
   ],
   "source": [
    "print('The accuracy of manhattan distance is ' + str(accuracy(y_test,man))+ '.')\n",
    "print('The sensitivity of manhattan distance is ' + str(sensitivity(y_test,man,'M'))+ '.')\n",
    "print('The specificity of manhattan distance is ' + str(specifity(y_test,man,'M'))+ '.')\n",
    "print('The precision of manhattan distance is ' + str(precision(y_test,man,'M'))+ '.')"
   ]
  },
  {
   "cell_type": "markdown",
   "metadata": {},
   "source": [
    "## Euclidean Distance"
   ]
  },
  {
   "cell_type": "code",
   "execution_count": 15,
   "metadata": {},
   "outputs": [],
   "source": [
    "euc = nn(x_train,y_train,x_test,[\"Euclidean\"])"
   ]
  },
  {
   "cell_type": "code",
   "execution_count": 16,
   "metadata": {},
   "outputs": [
    {
     "name": "stdout",
     "output_type": "stream",
     "text": [
      "The accuracy of euclidean distance is 0.8985507246376812.\n",
      "The sensitivity of euclidean distance is 0.972972972972973.\n",
      "The specificity of euclidean distance is 0.8125.\n",
      "The precision of euclidean distance is 0.8571428571428571.\n"
     ]
    }
   ],
   "source": [
    "print('The accuracy of euclidean distance is ' + str(accuracy(y_test,euc))+ '.')\n",
    "print('The sensitivity of euclidean distance is ' + str(sensitivity(y_test,euc,'M'))+ '.')\n",
    "print('The specificity of euclidean distance is ' + str(specifity(y_test,euc,'M'))+ '.')\n",
    "print('The precision of euclidean distance is ' + str(precision(y_test,euc,'M'))+ '.')"
   ]
  },
  {
   "cell_type": "markdown",
   "metadata": {},
   "source": [
    "## Minkowski Distance (Q = 1)"
   ]
  },
  {
   "cell_type": "code",
   "execution_count": 17,
   "metadata": {},
   "outputs": [],
   "source": [
    "mink_1 = nn(x_train,y_train,x_test,[\"Minkowski\",1])"
   ]
  },
  {
   "cell_type": "code",
   "execution_count": 18,
   "metadata": {},
   "outputs": [
    {
     "name": "stdout",
     "output_type": "stream",
     "text": [
      "The accuracy of Minkowski distance is 0.8840579710144928.\n",
      "The sensitivity of Minkowski distance is 0.9459459459459459.\n",
      "The specificity of Minkowski distance is 0.8125.\n",
      "The precision of Minkowski distance is 0.8536585365853658.\n"
     ]
    }
   ],
   "source": [
    "print('The accuracy of Minkowski distance is ' + str(accuracy(y_test,mink_1))+ '.')\n",
    "print('The sensitivity of Minkowski distance is ' + str(sensitivity(y_test,mink_1,'M'))+ '.')\n",
    "print('The specificity of Minkowski distance is ' + str(specifity(y_test,mink_1,'M'))+ '.')\n",
    "print('The precision of Minkowski distance is ' + str(precision(y_test,mink_1,'M'))+ '.')"
   ]
  },
  {
   "cell_type": "markdown",
   "metadata": {},
   "source": [
    "## Minkowski Distance (Q = 2)"
   ]
  },
  {
   "cell_type": "code",
   "execution_count": 19,
   "metadata": {},
   "outputs": [],
   "source": [
    "mink_2 = nn(x_train,y_train,x_test,[\"Minkowski\",2])"
   ]
  },
  {
   "cell_type": "code",
   "execution_count": 20,
   "metadata": {},
   "outputs": [
    {
     "name": "stdout",
     "output_type": "stream",
     "text": [
      "The accuracy of Minkowski distance is 0.8985507246376812.\n",
      "The sensitivity of Minkowski distance is 0.972972972972973.\n",
      "The specificity of Minkowski distance is 0.8125.\n",
      "The precision of Minkowski distance is 0.8571428571428571.\n"
     ]
    }
   ],
   "source": [
    "print('The accuracy of Minkowski distance is ' + str(accuracy(y_test,mink_2))+ '.')\n",
    "print('The sensitivity of Minkowski distance is ' + str(sensitivity(y_test,mink_2,'M'))+ '.')\n",
    "print('The specificity of Minkowski distance is ' + str(specifity(y_test,mink_2,'M'))+ '.')\n",
    "print('The precision of Minkowski distance is ' + str(precision(y_test,mink_2,'M'))+ '.')"
   ]
  },
  {
   "cell_type": "markdown",
   "metadata": {},
   "source": [
    "### Testing\n"
   ]
  },
  {
   "cell_type": "code",
   "execution_count": 21,
   "metadata": {},
   "outputs": [
    {
     "name": "stdout",
     "output_type": "stream",
     "text": [
      "0.8840579710144928\n",
      "0.8536585365853658\n",
      "0.9459459459459459\n"
     ]
    }
   ],
   "source": [
    "#import k-nn classifier\n",
    "from sklearn.model_selection import train_test_split\n",
    "from sklearn.neighbors import KNeighborsClassifier\n",
    "\n",
    "from sklearn.metrics import confusion_matrix\n",
    "from sklearn.metrics import classification_report\n",
    "from sklearn.metrics import accuracy_score\n",
    "from sklearn.metrics import precision_score\n",
    "from sklearn.metrics import recall_score\n",
    "import operator\n",
    "\n",
    "\n",
    "knn=KNeighborsClassifier(n_neighbors=1, metric='manhattan')\n",
    "\n",
    "knn.fit(data.loc[:,data.columns != 'Class'],data.loc[:,'Class'])\n",
    "\n",
    "pred = knn.predict(test.loc[:,test.columns  != 'Class'])\n",
    "\n",
    "print(accuracy_score(pred,test.loc[:,'Class']))\n",
    "\n",
    "print(precision_score(y_test,pred,average='binary',pos_label='M'))\n",
    "\n",
    "print(recall_score(y_test,pred,average='binary',pos_label='M'))"
   ]
  },
  {
   "cell_type": "code",
   "execution_count": null,
   "metadata": {},
   "outputs": [],
   "source": []
  }
 ],
 "metadata": {
  "kernelspec": {
   "display_name": "Python 3",
   "language": "python",
   "name": "python3"
  },
  "language_info": {
   "codemirror_mode": {
    "name": "ipython",
    "version": 3
   },
   "file_extension": ".py",
   "mimetype": "text/x-python",
   "name": "python",
   "nbconvert_exporter": "python",
   "pygments_lexer": "ipython3",
   "version": "3.7.9"
  }
 },
 "nbformat": 4,
 "nbformat_minor": 4
}
